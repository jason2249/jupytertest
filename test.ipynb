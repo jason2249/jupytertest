{
 "cells": [
  {
   "cell_type": "code",
   "execution_count": null,
   "metadata": {},
   "outputs": [],
   "source": [
    "'''\n",
    "First, press shift->enter to run the code in this box. Nothing should happen.\n",
    "Credit goes to Tom Roelandts and his article here:\n",
    "https://tomroelandts.com/articles/how-to-compute-colorful-fractals-using-numpy-and-matplotlib\n",
    "'''\n",
    "from __future__ import division\n",
    " \n",
    "import numpy as np\n",
    "from scipy import misc\n",
    "import matplotlib.pyplot as plt\n",
    "\n",
    "def make_fractal(z_val, c_val):\n",
    "    m = 480\n",
    "    n = 320\n",
    "    s = 300  # Scale.\n",
    "    x = np.linspace(-m / s, m / s, num=m).reshape((1, m))\n",
    "    y = np.linspace(-n / s, n / s, num=n).reshape((n, 1))\n",
    "    Z = np.tile(x, (n, 1)) + 1j * np.tile(y, (1, m))\n",
    "\n",
    "    C = np.full((n, m), z_val + c_val)\n",
    "    M = np.full((n, m), True, dtype=bool)\n",
    "    N = np.zeros((n, m))\n",
    "    for i in range(256):\n",
    "        Z[M] = Z[M] * Z[M] + C[M]\n",
    "        M[np.abs(Z) > 2] = False\n",
    "        N[M] = i\n",
    "\n",
    "    fig = plt.figure()\n",
    "    fig.set_size_inches(m / 50, n / 50)\n",
    "    ax = fig.add_axes([0, 0, 1, 1], frameon=False, aspect=1)\n",
    "    ax.set_xticks([])\n",
    "    ax.set_yticks([])\n",
    "    plt.imshow(np.flipud(N), cmap='hot')\n",
    "    plt.show()\n",
    "    plt.close()\n"
   ]
  },
  {
   "cell_type": "code",
   "execution_count": null,
   "metadata": {},
   "outputs": [],
   "source": [
    "'''\n",
    "TODO Change your z value and c values here! Make sure that you ran the box above first.\n",
    "Z can range from -2 to .5\n",
    "Remember that c_val is imaginary, so put j after the number.\n",
    "C can range from -1.3j to 1.3j\n",
    "'''\n",
    "z_val = .3\n",
    "c_val = .01j\n",
    "# ^^^^^^^^^^ Change these 2 values only! ^^^^^^^^^^\n",
    "\n",
    "make_fractal(z_val, c_val)\n",
    "# With this box selected, press shift->enter to run the program!"
   ]
  }
 ],
 "metadata": {
  "kernelspec": {
   "display_name": "Python 3",
   "language": "python",
   "name": "python3"
  },
  "language_info": {
   "codemirror_mode": {
    "name": "ipython",
    "version": 3
   },
   "file_extension": ".py",
   "mimetype": "text/x-python",
   "name": "python",
   "nbconvert_exporter": "python",
   "pygments_lexer": "ipython3",
   "version": "3.7.2"
  }
 },
 "nbformat": 4,
 "nbformat_minor": 2
}
